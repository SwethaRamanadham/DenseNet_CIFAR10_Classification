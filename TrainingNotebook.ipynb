{
 "cells": [
  {
   "cell_type": "code",
   "execution_count": 7,
   "metadata": {
    "colab": {
     "base_uri": "https://localhost:8080/",
     "height": 52
    },
    "colab_type": "code",
    "executionInfo": {
     "elapsed": 3374,
     "status": "ok",
     "timestamp": 1586554371992,
     "user": {
      "displayName": "Arjun Kumarsingh",
      "photoUrl": "",
      "userId": "16334796144716120788"
     },
     "user_tz": -330
    },
    "id": "JACzskbK18dn",
    "outputId": "9a3ab8ac-5bc4-45bd-b748-bcea1efdec71"
   },
   "outputs": [
    {
     "name": "stdout",
     "output_type": "stream",
     "text": [
      "Drive already mounted at /content/gdrive; to attempt to forcibly remount, call drive.mount(\"/content/gdrive\", force_remount=True).\n",
      "Current Working Directory /content/gdrive/My Drive/Image-Classification-and-Deployment_pytorch\n"
     ]
    }
   ],
   "source": [
    "from google.colab import drive\n",
    "drive.mount('/content/gdrive')\n",
    "\n",
    "#Mounting drive at shared drive loaction\n",
    "import os\n",
    "os.chdir('/content/gdrive/My Drive/Image-Classification-and-Deployment_pytorch')\n",
    "print(\"Current Working Directory \"+ os.getcwd())"
   ]
  },
  {
   "cell_type": "code",
   "execution_count": 0,
   "metadata": {
    "colab": {},
    "colab_type": "code",
    "id": "Ze0sD7dK15sP"
   },
   "outputs": [],
   "source": [
    "from src.data import Cifar10Data\n",
    "from src.model import getModel\n",
    "from src.training import train_model"
   ]
  },
  {
   "cell_type": "code",
   "execution_count": 9,
   "metadata": {
    "colab": {
     "base_uri": "https://localhost:8080/",
     "height": 52
    },
    "colab_type": "code",
    "executionInfo": {
     "elapsed": 5089,
     "status": "ok",
     "timestamp": 1586554373718,
     "user": {
      "displayName": "Arjun Kumarsingh",
      "photoUrl": "",
      "userId": "16334796144716120788"
     },
     "user_tz": -330
    },
    "id": "JETkUOWU15sT",
    "outputId": "3adc44c4-7753-44db-bbc6-c5a55017fea1"
   },
   "outputs": [
    {
     "name": "stdout",
     "output_type": "stream",
     "text": [
      "Files already downloaded and verified\n",
      "Files already downloaded and verified\n"
     ]
    }
   ],
   "source": [
    "data = Cifar10Data()"
   ]
  },
  {
   "cell_type": "code",
   "execution_count": 10,
   "metadata": {
    "colab": {
     "base_uri": "https://localhost:8080/",
     "height": 69
    },
    "colab_type": "code",
    "executionInfo": {
     "elapsed": 5084,
     "status": "ok",
     "timestamp": 1586554373719,
     "user": {
      "displayName": "Arjun Kumarsingh",
      "photoUrl": "",
      "userId": "16334796144716120788"
     },
     "user_tz": -330
    },
    "id": "2OOb07t515sW",
    "outputId": "3948ae6a-8a48-4281-9d7b-7e665eba740f"
   },
   "outputs": [
    {
     "name": "stdout",
     "output_type": "stream",
     "text": [
      "The model is in training mode\n",
      "No of params in model is  931420\n",
      "model is loaded on GPU True\n"
     ]
    }
   ],
   "source": [
    "model = getModel(training=True,num_classes=data.num_classes)"
   ]
  },
  {
   "cell_type": "code",
   "execution_count": 11,
   "metadata": {
    "colab": {
     "base_uri": "https://localhost:8080/",
     "height": 1000
    },
    "colab_type": "code",
    "executionInfo": {
     "elapsed": 4643358,
     "status": "ok",
     "timestamp": 1586561323365,
     "user": {
      "displayName": "Arjun Kumarsingh",
      "photoUrl": "",
      "userId": "16334796144716120788"
     },
     "user_tz": -330
    },
    "id": "p9TxHAFj15sZ",
    "outputId": "78403665-67d7-4c47-9a09-95996420922f"
   },
   "outputs": [
    {
     "name": "stderr",
     "output_type": "stream",
     "text": [
      "\n",
      "\n",
      "Epochs:   0%|          | 0/35 [00:00<?, ?it/s]\u001b[A\u001b[A\n",
      "\n",
      "Epochs:   3%|▎         | 1/35 [03:18<1:52:40, 198.82s/it]\u001b[A\u001b[A"
     ]
    },
    {
     "name": "stdout",
     "output_type": "stream",
     "text": [
      "src/training_logs/training_logs.txt src/training_logs/training_logs.txt Saving the current best model. Previous best loss = inf Current best loss = 1.4652540996551513\n",
      "src/training_logs/training_logs.txt src/training_logs/training_logs.txt [ Epochs 0 | 35 ] :  train Loss: 1.4999 Acc: 0.4465 val Loss: 1.4653 Acc: 0.4999\n"
     ]
    },
    {
     "name": "stderr",
     "output_type": "stream",
     "text": [
      "\n",
      "\n",
      "Epochs:   6%|▌         | 2/35 [06:37<1:49:19, 198.78s/it]\u001b[A\u001b[A"
     ]
    },
    {
     "name": "stdout",
     "output_type": "stream",
     "text": [
      "src/training_logs/training_logs.txt src/training_logs/training_logs.txt Saving the current best model. Previous best loss = 1.4652540996551513 Current best loss = 1.311779135131836\n",
      "src/training_logs/training_logs.txt src/training_logs/training_logs.txt [ Epochs 1 | 35 ] :  train Loss: 1.0373 Acc: 0.6284 val Loss: 1.3118 Acc: 0.5883\n"
     ]
    },
    {
     "name": "stderr",
     "output_type": "stream",
     "text": [
      "\n",
      "\n",
      "Epochs:   9%|▊         | 3/35 [09:56<1:46:02, 198.84s/it]\u001b[A\u001b[A"
     ]
    },
    {
     "name": "stdout",
     "output_type": "stream",
     "text": [
      "src/training_logs/training_logs.txt src/training_logs/training_logs.txt Saving the current best model. Previous best loss = 1.311779135131836 Current best loss = 1.0657950094223023\n",
      "src/training_logs/training_logs.txt src/training_logs/training_logs.txt [ Epochs 2 | 35 ] :  train Loss: 0.8586 Acc: 0.6949 val Loss: 1.0658 Acc: 0.6377\n"
     ]
    },
    {
     "name": "stderr",
     "output_type": "stream",
     "text": [
      "\n",
      "\n",
      "Epochs:  11%|█▏        | 4/35 [13:15<1:42:49, 199.00s/it]\u001b[A\u001b[A"
     ]
    },
    {
     "name": "stdout",
     "output_type": "stream",
     "text": [
      "src/training_logs/training_logs.txt src/training_logs/training_logs.txt Saving the current best model. Previous best loss = 1.0657950094223023 Current best loss = 0.7882007273674011\n",
      "src/training_logs/training_logs.txt src/training_logs/training_logs.txt [ Epochs 3 | 35 ] :  train Loss: 0.7392 Acc: 0.7421 val Loss: 0.7882 Acc: 0.7377\n"
     ]
    },
    {
     "name": "stderr",
     "output_type": "stream",
     "text": [
      "\n",
      "\n",
      "Epochs:  14%|█▍        | 5/35 [16:34<1:39:30, 199.02s/it]\u001b[A\u001b[A"
     ]
    },
    {
     "name": "stdout",
     "output_type": "stream",
     "text": [
      "src/training_logs/training_logs.txt src/training_logs/training_logs.txt [ Epochs 4 | 35 ] :  train Loss: 0.6521 Acc: 0.7754 val Loss: 1.1612 Acc: 0.6635\n"
     ]
    },
    {
     "name": "stderr",
     "output_type": "stream",
     "text": [
      "\n",
      "\n",
      "Epochs:  17%|█▋        | 6/35 [19:54<1:36:16, 199.18s/it]\u001b[A\u001b[A"
     ]
    },
    {
     "name": "stdout",
     "output_type": "stream",
     "text": [
      "src/training_logs/training_logs.txt src/training_logs/training_logs.txt Saving the current best model. Previous best loss = 0.7882007273674011 Current best loss = 0.5597876172542572\n",
      "src/training_logs/training_logs.txt src/training_logs/training_logs.txt [ Epochs 5 | 35 ] :  train Loss: 0.5888 Acc: 0.7978 val Loss: 0.5598 Acc: 0.8084\n"
     ]
    },
    {
     "name": "stderr",
     "output_type": "stream",
     "text": [
      "\n",
      "\n",
      "Epochs:  20%|██        | 7/35 [23:13<1:32:53, 199.04s/it]\u001b[A\u001b[A"
     ]
    },
    {
     "name": "stdout",
     "output_type": "stream",
     "text": [
      "src/training_logs/training_logs.txt src/training_logs/training_logs.txt [ Epochs 6 | 35 ] :  train Loss: 0.5400 Acc: 0.8133 val Loss: 0.6458 Acc: 0.7861\n"
     ]
    },
    {
     "name": "stderr",
     "output_type": "stream",
     "text": [
      "\n",
      "\n",
      "Epochs:  23%|██▎       | 8/35 [26:31<1:29:30, 198.89s/it]\u001b[A\u001b[A"
     ]
    },
    {
     "name": "stdout",
     "output_type": "stream",
     "text": [
      "src/training_logs/training_logs.txt src/training_logs/training_logs.txt Saving the current best model. Previous best loss = 0.5597876172542572 Current best loss = 0.529998431110382\n",
      "src/training_logs/training_logs.txt src/training_logs/training_logs.txt [ Epochs 7 | 35 ] :  train Loss: 0.4995 Acc: 0.8305 val Loss: 0.5300 Acc: 0.8182\n"
     ]
    },
    {
     "name": "stderr",
     "output_type": "stream",
     "text": [
      "\n",
      "\n",
      "Epochs:  26%|██▌       | 9/35 [29:50<1:26:09, 198.81s/it]\u001b[A\u001b[A"
     ]
    },
    {
     "name": "stdout",
     "output_type": "stream",
     "text": [
      "src/training_logs/training_logs.txt src/training_logs/training_logs.txt Saving the current best model. Previous best loss = 0.529998431110382 Current best loss = 0.4658850176334381\n",
      "src/training_logs/training_logs.txt src/training_logs/training_logs.txt [ Epochs 8 | 35 ] :  train Loss: 0.4661 Acc: 0.8400 val Loss: 0.4659 Acc: 0.8444\n"
     ]
    },
    {
     "name": "stderr",
     "output_type": "stream",
     "text": [
      "\n",
      "\n",
      "Epochs:  29%|██▊       | 10/35 [33:08<1:22:46, 198.65s/it]\u001b[A\u001b[A"
     ]
    },
    {
     "name": "stdout",
     "output_type": "stream",
     "text": [
      "src/training_logs/training_logs.txt src/training_logs/training_logs.txt [ Epochs 9 | 35 ] :  train Loss: 0.4387 Acc: 0.8504 val Loss: 0.5594 Acc: 0.8177\n"
     ]
    },
    {
     "name": "stderr",
     "output_type": "stream",
     "text": [
      "\n",
      "\n",
      "Epochs:  31%|███▏      | 11/35 [36:26<1:19:24, 198.53s/it]\u001b[A\u001b[A"
     ]
    },
    {
     "name": "stdout",
     "output_type": "stream",
     "text": [
      "src/training_logs/training_logs.txt src/training_logs/training_logs.txt [ Epochs 10 | 35 ] :  train Loss: 0.4148 Acc: 0.8587 val Loss: 0.4957 Acc: 0.8370\n"
     ]
    },
    {
     "name": "stderr",
     "output_type": "stream",
     "text": [
      "\n",
      "\n",
      "Epochs:  34%|███▍      | 12/35 [39:45<1:16:04, 198.47s/it]\u001b[A\u001b[A"
     ]
    },
    {
     "name": "stdout",
     "output_type": "stream",
     "text": [
      "src/training_logs/training_logs.txt src/training_logs/training_logs.txt Saving the current best model. Previous best loss = 0.4658850176334381 Current best loss = 0.44875309739112856\n",
      "src/training_logs/training_logs.txt src/training_logs/training_logs.txt [ Epochs 11 | 35 ] :  train Loss: 0.3946 Acc: 0.8655 val Loss: 0.4488 Acc: 0.8501\n"
     ]
    },
    {
     "name": "stderr",
     "output_type": "stream",
     "text": [
      "\n",
      "\n",
      "Epochs:  37%|███▋      | 13/35 [43:03<1:12:46, 198.47s/it]\u001b[A\u001b[A"
     ]
    },
    {
     "name": "stdout",
     "output_type": "stream",
     "text": [
      "src/training_logs/training_logs.txt src/training_logs/training_logs.txt Saving the current best model. Previous best loss = 0.44875309739112856 Current best loss = 0.4307628736972809\n",
      "src/training_logs/training_logs.txt src/training_logs/training_logs.txt [ Epochs 12 | 35 ] :  train Loss: 0.3728 Acc: 0.8709 val Loss: 0.4308 Acc: 0.8539\n"
     ]
    },
    {
     "name": "stderr",
     "output_type": "stream",
     "text": [
      "\n",
      "\n",
      "Epochs:  40%|████      | 14/35 [46:22<1:09:27, 198.47s/it]\u001b[A\u001b[A"
     ]
    },
    {
     "name": "stdout",
     "output_type": "stream",
     "text": [
      "src/training_logs/training_logs.txt src/training_logs/training_logs.txt [ Epochs 13 | 35 ] :  train Loss: 0.3570 Acc: 0.8785 val Loss: 0.4371 Acc: 0.8570\n"
     ]
    },
    {
     "name": "stderr",
     "output_type": "stream",
     "text": [
      "\n",
      "\n",
      "Epochs:  43%|████▎     | 15/35 [49:40<1:06:10, 198.54s/it]\u001b[A\u001b[A"
     ]
    },
    {
     "name": "stdout",
     "output_type": "stream",
     "text": [
      "src/training_logs/training_logs.txt src/training_logs/training_logs.txt Saving the current best model. Previous best loss = 0.4307628736972809 Current best loss = 0.3905337661504745\n",
      "src/training_logs/training_logs.txt src/training_logs/training_logs.txt [ Epochs 14 | 35 ] :  train Loss: 0.3444 Acc: 0.8826 val Loss: 0.3905 Acc: 0.8684\n"
     ]
    },
    {
     "name": "stderr",
     "output_type": "stream",
     "text": [
      "\n",
      "\n",
      "Epochs:  46%|████▌     | 16/35 [52:59<1:02:53, 198.58s/it]\u001b[A\u001b[A"
     ]
    },
    {
     "name": "stdout",
     "output_type": "stream",
     "text": [
      "src/training_logs/training_logs.txt src/training_logs/training_logs.txt [ Epochs 15 | 35 ] :  train Loss: 0.3278 Acc: 0.8874 val Loss: 0.4502 Acc: 0.8625\n"
     ]
    },
    {
     "name": "stderr",
     "output_type": "stream",
     "text": [
      "\n",
      "\n",
      "Epochs:  49%|████▊     | 17/35 [56:18<59:35, 198.64s/it]  \u001b[A\u001b[A"
     ]
    },
    {
     "name": "stdout",
     "output_type": "stream",
     "text": [
      "src/training_logs/training_logs.txt src/training_logs/training_logs.txt Saving the current best model. Previous best loss = 0.3905337661504745 Current best loss = 0.34673454790115354\n",
      "src/training_logs/training_logs.txt src/training_logs/training_logs.txt [ Epochs 16 | 35 ] :  train Loss: 0.3229 Acc: 0.8885 val Loss: 0.3467 Acc: 0.8812\n"
     ]
    },
    {
     "name": "stderr",
     "output_type": "stream",
     "text": [
      "\n",
      "\n",
      "Epochs:  51%|█████▏    | 18/35 [59:36<56:15, 198.53s/it]\u001b[A\u001b[A"
     ]
    },
    {
     "name": "stdout",
     "output_type": "stream",
     "text": [
      "src/training_logs/training_logs.txt src/training_logs/training_logs.txt [ Epochs 17 | 35 ] :  train Loss: 0.3058 Acc: 0.8948 val Loss: 0.4381 Acc: 0.8560\n"
     ]
    },
    {
     "name": "stderr",
     "output_type": "stream",
     "text": [
      "\n",
      "\n",
      "Epochs:  54%|█████▍    | 19/35 [1:02:54<52:54, 198.43s/it]\u001b[A\u001b[A"
     ]
    },
    {
     "name": "stdout",
     "output_type": "stream",
     "text": [
      "src/training_logs/training_logs.txt src/training_logs/training_logs.txt [ Epochs 18 | 35 ] :  train Loss: 0.2949 Acc: 0.8975 val Loss: 0.3599 Acc: 0.8837\n"
     ]
    },
    {
     "name": "stderr",
     "output_type": "stream",
     "text": [
      "\n",
      "\n",
      "Epochs:  57%|█████▋    | 20/35 [1:06:13<49:36, 198.46s/it]\u001b[A\u001b[A"
     ]
    },
    {
     "name": "stdout",
     "output_type": "stream",
     "text": [
      "src/training_logs/training_logs.txt src/training_logs/training_logs.txt [ Epochs 19 | 35 ] :  train Loss: 0.2868 Acc: 0.9021 val Loss: 0.3973 Acc: 0.8755\n"
     ]
    },
    {
     "name": "stderr",
     "output_type": "stream",
     "text": [
      "\n",
      "\n",
      "Epochs:  60%|██████    | 21/35 [1:09:31<46:17, 198.42s/it]\u001b[A\u001b[A"
     ]
    },
    {
     "name": "stdout",
     "output_type": "stream",
     "text": [
      "src/training_logs/training_logs.txt src/training_logs/training_logs.txt [ Epochs 20 | 35 ] :  train Loss: 0.2761 Acc: 0.9060 val Loss: 0.3957 Acc: 0.8660\n"
     ]
    },
    {
     "name": "stderr",
     "output_type": "stream",
     "text": [
      "\n",
      "\n",
      "Epochs:  63%|██████▎   | 22/35 [1:12:50<42:59, 198.42s/it]\u001b[A\u001b[A"
     ]
    },
    {
     "name": "stdout",
     "output_type": "stream",
     "text": [
      "Epoch    22: reducing learning rate of group 0 to 1.0000e-03.\n",
      "src/training_logs/training_logs.txt src/training_logs/training_logs.txt [ Epochs 21 | 35 ] :  train Loss: 0.2681 Acc: 0.9094 val Loss: 0.3504 Acc: 0.8829\n"
     ]
    },
    {
     "name": "stderr",
     "output_type": "stream",
     "text": [
      "\n",
      "\n",
      "Epochs:  66%|██████▌   | 23/35 [1:16:08<39:41, 198.48s/it]\u001b[A\u001b[A"
     ]
    },
    {
     "name": "stdout",
     "output_type": "stream",
     "text": [
      "src/training_logs/training_logs.txt src/training_logs/training_logs.txt Saving the current best model. Previous best loss = 0.34673454790115354 Current best loss = 0.2676535522460938\n",
      "src/training_logs/training_logs.txt src/training_logs/training_logs.txt [ Epochs 22 | 35 ] :  train Loss: 0.1988 Acc: 0.9325 val Loss: 0.2677 Acc: 0.9120\n"
     ]
    },
    {
     "name": "stderr",
     "output_type": "stream",
     "text": [
      "\n",
      "\n",
      "Epochs:  69%|██████▊   | 24/35 [1:19:27<36:23, 198.49s/it]\u001b[A\u001b[A"
     ]
    },
    {
     "name": "stdout",
     "output_type": "stream",
     "text": [
      "src/training_logs/training_logs.txt src/training_logs/training_logs.txt Saving the current best model. Previous best loss = 0.2676535522460938 Current best loss = 0.2585829415798187\n",
      "src/training_logs/training_logs.txt src/training_logs/training_logs.txt [ Epochs 23 | 35 ] :  train Loss: 0.1741 Acc: 0.9407 val Loss: 0.2586 Acc: 0.9145\n"
     ]
    },
    {
     "name": "stderr",
     "output_type": "stream",
     "text": [
      "\n",
      "\n",
      "Epochs:  71%|███████▏  | 25/35 [1:22:45<33:05, 198.50s/it]\u001b[A\u001b[A"
     ]
    },
    {
     "name": "stdout",
     "output_type": "stream",
     "text": [
      "src/training_logs/training_logs.txt src/training_logs/training_logs.txt Saving the current best model. Previous best loss = 0.2585829415798187 Current best loss = 0.2512945168495178\n",
      "src/training_logs/training_logs.txt src/training_logs/training_logs.txt [ Epochs 24 | 35 ] :  train Loss: 0.1670 Acc: 0.9443 val Loss: 0.2513 Acc: 0.9171\n"
     ]
    },
    {
     "name": "stderr",
     "output_type": "stream",
     "text": [
      "\n",
      "\n",
      "Epochs:  74%|███████▍  | 26/35 [1:26:04<29:46, 198.49s/it]\u001b[A\u001b[A"
     ]
    },
    {
     "name": "stdout",
     "output_type": "stream",
     "text": [
      "src/training_logs/training_logs.txt src/training_logs/training_logs.txt [ Epochs 25 | 35 ] :  train Loss: 0.1573 Acc: 0.9464 val Loss: 0.2623 Acc: 0.9156\n"
     ]
    },
    {
     "name": "stderr",
     "output_type": "stream",
     "text": [
      "\n",
      "\n",
      "Epochs:  77%|███████▋  | 27/35 [1:29:22<26:27, 198.47s/it]\u001b[A\u001b[A"
     ]
    },
    {
     "name": "stdout",
     "output_type": "stream",
     "text": [
      "src/training_logs/training_logs.txt src/training_logs/training_logs.txt Saving the current best model. Previous best loss = 0.2512945168495178 Current best loss = 0.24890395350456238\n",
      "src/training_logs/training_logs.txt src/training_logs/training_logs.txt [ Epochs 26 | 35 ] :  train Loss: 0.1519 Acc: 0.9478 val Loss: 0.2489 Acc: 0.9194\n"
     ]
    },
    {
     "name": "stderr",
     "output_type": "stream",
     "text": [
      "\n",
      "\n",
      "Epochs:  80%|████████  | 28/35 [1:32:41<23:09, 198.53s/it]\u001b[A\u001b[A"
     ]
    },
    {
     "name": "stdout",
     "output_type": "stream",
     "text": [
      "src/training_logs/training_logs.txt src/training_logs/training_logs.txt [ Epochs 27 | 35 ] :  train Loss: 0.1523 Acc: 0.9468 val Loss: 0.2601 Acc: 0.9169\n"
     ]
    },
    {
     "name": "stderr",
     "output_type": "stream",
     "text": [
      "\n",
      "\n",
      "Epochs:  83%|████████▎ | 29/35 [1:35:59<19:50, 198.49s/it]\u001b[A\u001b[A"
     ]
    },
    {
     "name": "stdout",
     "output_type": "stream",
     "text": [
      "src/training_logs/training_logs.txt src/training_logs/training_logs.txt [ Epochs 28 | 35 ] :  train Loss: 0.1487 Acc: 0.9490 val Loss: 0.2576 Acc: 0.9215\n"
     ]
    },
    {
     "name": "stderr",
     "output_type": "stream",
     "text": [
      "\n",
      "\n",
      "Epochs:  86%|████████▌ | 30/35 [1:39:18<16:32, 198.44s/it]\u001b[A\u001b[A"
     ]
    },
    {
     "name": "stdout",
     "output_type": "stream",
     "text": [
      "src/training_logs/training_logs.txt src/training_logs/training_logs.txt [ Epochs 29 | 35 ] :  train Loss: 0.1436 Acc: 0.9514 val Loss: 0.2521 Acc: 0.9203\n"
     ]
    },
    {
     "name": "stderr",
     "output_type": "stream",
     "text": [
      "\n",
      "\n",
      "Epochs:  89%|████████▊ | 31/35 [1:42:36<13:13, 198.47s/it]\u001b[A\u001b[A"
     ]
    },
    {
     "name": "stdout",
     "output_type": "stream",
     "text": [
      "src/training_logs/training_logs.txt src/training_logs/training_logs.txt [ Epochs 30 | 35 ] :  train Loss: 0.1374 Acc: 0.9536 val Loss: 0.2647 Acc: 0.9179\n"
     ]
    },
    {
     "name": "stderr",
     "output_type": "stream",
     "text": [
      "\n",
      "\n",
      "Epochs:  91%|█████████▏| 32/35 [1:45:54<09:55, 198.43s/it]\u001b[A\u001b[A"
     ]
    },
    {
     "name": "stdout",
     "output_type": "stream",
     "text": [
      "Epoch    32: reducing learning rate of group 0 to 1.0000e-04.\n",
      "src/training_logs/training_logs.txt src/training_logs/training_logs.txt [ Epochs 31 | 35 ] :  train Loss: 0.1362 Acc: 0.9532 val Loss: 0.2612 Acc: 0.9171\n"
     ]
    },
    {
     "name": "stderr",
     "output_type": "stream",
     "text": [
      "\n",
      "\n",
      "Epochs:  94%|█████████▍| 33/35 [1:49:12<06:36, 198.32s/it]\u001b[A\u001b[A"
     ]
    },
    {
     "name": "stdout",
     "output_type": "stream",
     "text": [
      "src/training_logs/training_logs.txt src/training_logs/training_logs.txt [ Epochs 32 | 35 ] :  train Loss: 0.1321 Acc: 0.9551 val Loss: 0.2664 Acc: 0.9178\n"
     ]
    },
    {
     "name": "stderr",
     "output_type": "stream",
     "text": [
      "\n",
      "\n",
      "Epochs:  97%|█████████▋| 34/35 [1:52:31<03:18, 198.32s/it]\u001b[A\u001b[A"
     ]
    },
    {
     "name": "stdout",
     "output_type": "stream",
     "text": [
      "src/training_logs/training_logs.txt src/training_logs/training_logs.txt [ Epochs 33 | 35 ] :  train Loss: 0.1292 Acc: 0.9561 val Loss: 0.2594 Acc: 0.9182\n"
     ]
    },
    {
     "name": "stderr",
     "output_type": "stream",
     "text": [
      "\n",
      "\n",
      "Epochs: 100%|██████████| 35/35 [1:55:49<00:00, 198.56s/it]"
     ]
    },
    {
     "name": "stdout",
     "output_type": "stream",
     "text": [
      "src/training_logs/training_logs.txt src/training_logs/training_logs.txt [ Epochs 34 | 35 ] :  train Loss: 0.1261 Acc: 0.9556 val Loss: 0.2626 Acc: 0.9181\n"
     ]
    },
    {
     "name": "stderr",
     "output_type": "stream",
     "text": [
      "\n"
     ]
    }
   ],
   "source": [
    "train_model(model,data.dataloader(),num_epochs=35)"
   ]
  }
 ],
 "metadata": {
  "accelerator": "GPU",
  "colab": {
   "name": "TrainingNotebook.ipynb",
   "provenance": []
  },
  "kernelspec": {
   "display_name": "Python 3",
   "language": "python",
   "name": "python3"
  },
  "language_info": {
   "codemirror_mode": {
    "name": "ipython",
    "version": 3
   },
   "file_extension": ".py",
   "mimetype": "text/x-python",
   "name": "python",
   "nbconvert_exporter": "python",
   "pygments_lexer": "ipython3",
   "version": "3.7.3"
  }
 },
 "nbformat": 4,
 "nbformat_minor": 1
}
